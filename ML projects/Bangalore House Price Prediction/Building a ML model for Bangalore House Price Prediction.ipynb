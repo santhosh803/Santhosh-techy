{
  "nbformat": 4,
  "nbformat_minor": 5,
  "metadata": {
    "kernel_info": {
      "name": "python3.9-noteable"
    },
    "kernelspec": {
      "display_name": "Python 3.9 (Noteable)",
      "identifier": "noteable",
      "language": "python",
      "language_version": "3.9",
      "name": "python3.9-noteable"
    },
    "selected_hardware_size": "small"
  },
  "cells": [
    {
      "id": "452384e4",
      "cell_type": "code",
      "metadata": {
        "noteable": {
          "output_collection_id": "8c0e1e80-f5a6-4f3d-87a6-82b05865423f"
        },
        "ExecuteTime": {
          "end_time": "2023-12-12T08:10:46.997478+00:00",
          "start_time": "2023-12-12T08:10:46.838947+00:00"
        }
      },
      "execution_count": null,
      "source": "import pandas as pd\nimport numpy as np\nfrom matplotlib import pyplot as plt\n%matplotlib inline\nimport matplotlib \nmatplotlib.rcParams[\"figure.figsize\"] = (20,10)",
      "outputs": []
    },
    {
      "id": "2eaa5744-c514-49aa-91f8-4e24ff120008",
      "cell_type": "code",
      "metadata": {
        "jupyter": {
          "outputs_hidden": false,
          "source_hidden": false
        },
        "noteable": {
          "cell_type": "code",
          "output_collection_id": "359b8423-c39f-4fdd-8cd1-845d67f2e92d"
        },
        "ExecuteTime": {
          "end_time": "2023-12-12T08:11:10.058907+00:00",
          "start_time": "2023-12-12T08:11:09.718622+00:00"
        },
        "datalink": {
          "02283a20-ee06-43e5-be92-94626196a762": {
            "applied_filters": [],
            "dataframe_info": {
              "default_index_used": true,
              "orig_num_cols": 9,
              "orig_num_rows": 5,
              "orig_size_bytes": 400,
              "truncated_num_cols": 9,
              "truncated_num_rows": 5,
              "truncated_size_bytes": 400,
              "truncated_string_columns": []
            },
            "display_id": "02283a20-ee06-43e5-be92-94626196a762",
            "dx_settings": {
              "ALLOW_NOTEABLE_ATTRS": true,
              "COLUMN_SAMPLING_METHOD": "outer",
              "DB_LOCATION": ":memory:",
              "DEV_MODE": false,
              "DISPLAY_MAX_COLUMNS": 100,
              "DISPLAY_MAX_ROWS": 50000,
              "DISPLAY_MODE": "simple",
              "ENABLE_ASSIGNMENT": true,
              "ENABLE_DATALINK": true,
              "FLATTEN_COLUMN_VALUES": true,
              "FLATTEN_INDEX_VALUES": false,
              "GENERATE_DEX_METADATA": false,
              "HTML_TABLE_SCHEMA": false,
              "LOG_LEVEL": 30,
              "MAX_RENDER_SIZE_BYTES": 104857600,
              "MAX_STRING_LENGTH": 250,
              "NUM_PAST_SAMPLES_TRACKED": 3,
              "RANDOM_STATE": 12648430,
              "RESET_INDEX_VALUES": false,
              "ROW_SAMPLING_METHOD": "random",
              "SAMPLING_FACTOR": 0.1,
              "SAMPLING_METHOD": "random",
              "STRINGIFY_COLUMN_VALUES": true,
              "STRINGIFY_INDEX_VALUES": false
            },
            "sample_history": [],
            "sampling_time": "2023-12-12T08:11:09.806386",
            "user_variable_name": null,
            "variable_name": "unk_dataframe_b81315450fd54d6b86f2125c14b6d811"
          }
        }
      },
      "execution_count": null,
      "source": "df1 = pd.read_csv(\"Bengaluru_House_Data.csv\")\ndf1.head()",
      "outputs": []
    },
    {
      "id": "7ac3c31e-f560-4ba3-9436-58bea8173694",
      "cell_type": "code",
      "metadata": {
        "jupyter": {
          "outputs_hidden": false,
          "source_hidden": false
        },
        "noteable": {
          "cell_type": "code",
          "output_collection_id": "b804ba80-5a61-4bd3-b8da-b984662b8057"
        },
        "ExecuteTime": {
          "end_time": "2023-12-12T08:13:43.966607+00:00",
          "start_time": "2023-12-12T08:13:43.763577+00:00"
        },
        "datalink": {
          "89e8923b-eb11-4734-b161-201f45fd9928": {
            "applied_filters": [],
            "dataframe_info": {
              "default_index_used": false,
              "orig_num_cols": 1,
              "orig_num_rows": 4,
              "orig_size_bytes": 64,
              "truncated_num_cols": 1,
              "truncated_num_rows": 4,
              "truncated_size_bytes": 64,
              "truncated_string_columns": []
            },
            "display_id": "89e8923b-eb11-4734-b161-201f45fd9928",
            "dx_settings": {
              "ALLOW_NOTEABLE_ATTRS": true,
              "COLUMN_SAMPLING_METHOD": "outer",
              "DB_LOCATION": ":memory:",
              "DEV_MODE": false,
              "DISPLAY_MAX_COLUMNS": 100,
              "DISPLAY_MAX_ROWS": 50000,
              "DISPLAY_MODE": "simple",
              "ENABLE_ASSIGNMENT": true,
              "ENABLE_DATALINK": true,
              "FLATTEN_COLUMN_VALUES": true,
              "FLATTEN_INDEX_VALUES": false,
              "GENERATE_DEX_METADATA": false,
              "HTML_TABLE_SCHEMA": false,
              "LOG_LEVEL": 30,
              "MAX_RENDER_SIZE_BYTES": 104857600,
              "MAX_STRING_LENGTH": 250,
              "NUM_PAST_SAMPLES_TRACKED": 3,
              "RANDOM_STATE": 12648430,
              "RESET_INDEX_VALUES": false,
              "ROW_SAMPLING_METHOD": "random",
              "SAMPLING_FACTOR": 0.1,
              "SAMPLING_METHOD": "random",
              "STRINGIFY_COLUMN_VALUES": true,
              "STRINGIFY_INDEX_VALUES": false
            },
            "sample_history": [],
            "sampling_time": "2023-12-12T08:13:18.436383",
            "user_variable_name": null,
            "variable_name": "unk_dataframe_dc70465f69cf489a8526894073d2a935"
          },
          "d1082e42-5324-44b8-9b71-3e953955dd87": {
            "applied_filters": [],
            "dataframe_info": {
              "default_index_used": false,
              "orig_num_cols": 1,
              "orig_num_rows": 4,
              "orig_size_bytes": 64,
              "truncated_num_cols": 1,
              "truncated_num_rows": 4,
              "truncated_size_bytes": 64,
              "truncated_string_columns": []
            },
            "display_id": "d1082e42-5324-44b8-9b71-3e953955dd87",
            "dx_settings": {
              "ALLOW_NOTEABLE_ATTRS": true,
              "COLUMN_SAMPLING_METHOD": "outer",
              "DB_LOCATION": ":memory:",
              "DEV_MODE": false,
              "DISPLAY_MAX_COLUMNS": 100,
              "DISPLAY_MAX_ROWS": 50000,
              "DISPLAY_MODE": "simple",
              "ENABLE_ASSIGNMENT": true,
              "ENABLE_DATALINK": true,
              "FLATTEN_COLUMN_VALUES": true,
              "FLATTEN_INDEX_VALUES": false,
              "GENERATE_DEX_METADATA": false,
              "HTML_TABLE_SCHEMA": false,
              "LOG_LEVEL": 30,
              "MAX_RENDER_SIZE_BYTES": 104857600,
              "MAX_STRING_LENGTH": 250,
              "NUM_PAST_SAMPLES_TRACKED": 3,
              "RANDOM_STATE": 12648430,
              "RESET_INDEX_VALUES": false,
              "ROW_SAMPLING_METHOD": "random",
              "SAMPLING_FACTOR": 0.1,
              "SAMPLING_METHOD": "random",
              "STRINGIFY_COLUMN_VALUES": true,
              "STRINGIFY_INDEX_VALUES": false
            },
            "sample_history": [],
            "sampling_time": "2023-12-12T08:13:43.808274",
            "user_variable_name": null,
            "variable_name": "unk_dataframe_8b0ec4365d4b41c2b6fbfeebfe0c9d43"
          }
        }
      },
      "execution_count": null,
      "source": "# df1.shape\n# df1.columns\n# df1['area_type'].unique()\ndf1['area_type'].value_counts()",
      "outputs": []
    },
    {
      "id": "8d7497b2-48cf-43f1-a02d-acc3e5ff3db1",
      "cell_type": "markdown",
      "source": "### Drop features that are not required to build our model",
      "metadata": {
        "noteable": {
          "cell_type": "markdown"
        }
      }
    },
    {
      "id": "f31479c4-c998-405d-9cc8-295dac9e7b03",
      "cell_type": "code",
      "metadata": {
        "noteable": {
          "cell_type": "python",
          "output_collection_id": "c61eb9a2-ec90-476a-a543-21d5639adc6d"
        },
        "ExecuteTime": {
          "end_time": "2023-12-12T08:16:17.128142+00:00",
          "start_time": "2023-12-12T08:16:16.970578+00:00"
        }
      },
      "execution_count": null,
      "source": "df2 = df1.drop(['area_type','society','balcony','availability'],axis='columns')\ndf2.shape",
      "outputs": []
    },
    {
      "id": "6e08c462-1050-486d-9918-959b430e30bb",
      "cell_type": "markdown",
      "source": "### Data Cleaning: Handle NA values",
      "metadata": {
        "noteable": {
          "cell_type": "markdown"
        }
      }
    },
    {
      "id": "a3bf7f19-075b-4079-9ba2-99fdcfc1be91",
      "cell_type": "code",
      "metadata": {
        "noteable": {
          "cell_type": "python",
          "output_collection_id": "a7fde50e-0dbf-4e6d-a181-c4507af935fd"
        },
        "ExecuteTime": {
          "end_time": "2023-12-12T08:17:37.162660+00:00",
          "start_time": "2023-12-12T08:17:36.945067+00:00"
        },
        "datalink": {
          "a65aaee9-9cb2-474b-a0e6-830ce6b26441": {
            "applied_filters": [],
            "dataframe_info": {
              "default_index_used": false,
              "orig_num_cols": 1,
              "orig_num_rows": 5,
              "orig_size_bytes": 80,
              "truncated_num_cols": 1,
              "truncated_num_rows": 5,
              "truncated_size_bytes": 80,
              "truncated_string_columns": []
            },
            "display_id": "a65aaee9-9cb2-474b-a0e6-830ce6b26441",
            "dx_settings": {
              "ALLOW_NOTEABLE_ATTRS": true,
              "COLUMN_SAMPLING_METHOD": "outer",
              "DB_LOCATION": ":memory:",
              "DEV_MODE": false,
              "DISPLAY_MAX_COLUMNS": 100,
              "DISPLAY_MAX_ROWS": 50000,
              "DISPLAY_MODE": "simple",
              "ENABLE_ASSIGNMENT": true,
              "ENABLE_DATALINK": true,
              "FLATTEN_COLUMN_VALUES": true,
              "FLATTEN_INDEX_VALUES": false,
              "GENERATE_DEX_METADATA": false,
              "HTML_TABLE_SCHEMA": false,
              "LOG_LEVEL": 30,
              "MAX_RENDER_SIZE_BYTES": 104857600,
              "MAX_STRING_LENGTH": 250,
              "NUM_PAST_SAMPLES_TRACKED": 3,
              "RANDOM_STATE": 12648430,
              "RESET_INDEX_VALUES": false,
              "ROW_SAMPLING_METHOD": "random",
              "SAMPLING_FACTOR": 0.1,
              "SAMPLING_METHOD": "random",
              "STRINGIFY_COLUMN_VALUES": true,
              "STRINGIFY_INDEX_VALUES": false
            },
            "sample_history": [],
            "sampling_time": "2023-12-12T08:17:37.004309",
            "user_variable_name": null,
            "variable_name": "unk_dataframe_f46d3d1400b340aead7c9850dfa2cf75"
          }
        }
      },
      "execution_count": null,
      "source": "df2.isnull().sum()",
      "outputs": []
    },
    {
      "id": "723c71b8-442b-4810-b46d-8dd343f787d1",
      "cell_type": "code",
      "metadata": {
        "jupyter": {
          "outputs_hidden": false,
          "source_hidden": false
        },
        "noteable": {
          "cell_type": "code",
          "output_collection_id": "38edaec6-dd8c-406b-b449-ae31723b8373"
        },
        "ExecuteTime": {
          "end_time": "2023-12-12T08:18:26.817262+00:00",
          "start_time": "2023-12-12T08:18:26.582403+00:00"
        },
        "datalink": {
          "e5dbdd4d-a0b6-4787-8bcd-cf342ba88d5b": {
            "applied_filters": [],
            "dataframe_info": {
              "default_index_used": false,
              "orig_num_cols": 1,
              "orig_num_rows": 5,
              "orig_size_bytes": 80,
              "truncated_num_cols": 1,
              "truncated_num_rows": 5,
              "truncated_size_bytes": 80,
              "truncated_string_columns": []
            },
            "display_id": "e5dbdd4d-a0b6-4787-8bcd-cf342ba88d5b",
            "dx_settings": {
              "ALLOW_NOTEABLE_ATTRS": true,
              "COLUMN_SAMPLING_METHOD": "outer",
              "DB_LOCATION": ":memory:",
              "DEV_MODE": false,
              "DISPLAY_MAX_COLUMNS": 100,
              "DISPLAY_MAX_ROWS": 50000,
              "DISPLAY_MODE": "simple",
              "ENABLE_ASSIGNMENT": true,
              "ENABLE_DATALINK": true,
              "FLATTEN_COLUMN_VALUES": true,
              "FLATTEN_INDEX_VALUES": false,
              "GENERATE_DEX_METADATA": false,
              "HTML_TABLE_SCHEMA": false,
              "LOG_LEVEL": 30,
              "MAX_RENDER_SIZE_BYTES": 104857600,
              "MAX_STRING_LENGTH": 250,
              "NUM_PAST_SAMPLES_TRACKED": 3,
              "RANDOM_STATE": 12648430,
              "RESET_INDEX_VALUES": false,
              "ROW_SAMPLING_METHOD": "random",
              "SAMPLING_FACTOR": 0.1,
              "SAMPLING_METHOD": "random",
              "STRINGIFY_COLUMN_VALUES": true,
              "STRINGIFY_INDEX_VALUES": false
            },
            "sample_history": [],
            "sampling_time": "2023-12-12T08:18:26.658536",
            "user_variable_name": null,
            "variable_name": "unk_dataframe_6b24467700a04c179e0dc947603595d7"
          }
        }
      },
      "execution_count": null,
      "source": "df3 = df2.dropna()\ndf3.isnull().sum()",
      "outputs": []
    },
    {
      "id": "6e146ff5-8b29-400b-bffb-b6e6ea0132ac",
      "cell_type": "markdown",
      "source": "## Feature Engineering\n#### Add new feature(integer) for bhk (Bedrooms Hall Kitchen)",
      "metadata": {
        "noteable": {
          "cell_type": "markdown"
        }
      }
    },
    {
      "id": "445ef04f-dda4-45d5-85d9-5d90a8dd034a",
      "cell_type": "code",
      "metadata": {
        "noteable": {
          "cell_type": "python",
          "output_collection_id": "54b3778b-842b-41e3-bdb7-5072a909460f"
        },
        "ExecuteTime": {
          "end_time": "2023-12-12T08:22:12.364220+00:00",
          "start_time": "2023-12-12T08:22:12.201270+00:00"
        }
      },
      "execution_count": null,
      "source": "df3['bhk'] = df3['size'].apply(lambda x: int(x.split(' ')[0]))\ndf3.bhk.unique() # unique values of bhk's",
      "outputs": []
    },
    {
      "id": "da1bd292-96a8-46ac-918e-7a79437fdf25",
      "cell_type": "markdown",
      "source": "### Explore total_sqft feature",
      "metadata": {
        "noteable": {
          "cell_type": "markdown"
        }
      }
    },
    {
      "id": "da264bfc-c487-46fe-be49-0a99b95728b9",
      "cell_type": "code",
      "metadata": {
        "noteable": {
          "cell_type": "python",
          "output_collection_id": "1b564b74-95c9-415e-8184-8482ee7b9283"
        },
        "ExecuteTime": {
          "end_time": "2023-12-12T08:23:11.537748+00:00",
          "start_time": "2023-12-12T08:23:11.382607+00:00"
        }
      },
      "execution_count": null,
      "source": "def is_float(x):\n    try:\n        float(x)\n    except:\n        return False\n    return True",
      "outputs": []
    },
    {
      "id": "15a8ca79-402e-4c83-99b8-5ac469370a2e",
      "cell_type": "code",
      "metadata": {
        "jupyter": {
          "outputs_hidden": false,
          "source_hidden": false
        },
        "noteable": {
          "cell_type": "code",
          "output_collection_id": "2bd309cd-7f97-486d-81be-2251f58c2212"
        },
        "ExecuteTime": {
          "end_time": "2023-12-12T08:38:27.459165+00:00",
          "start_time": "2023-12-12T08:38:27.200862+00:00"
        },
        "datalink": {
          "66b4e014-fcaf-4e81-9986-aca425096d18": {
            "applied_filters": [],
            "dataframe_info": {
              "default_index_used": true,
              "orig_num_cols": 6,
              "orig_num_rows": 10,
              "orig_size_bytes": 560,
              "truncated_num_cols": 6,
              "truncated_num_rows": 10,
              "truncated_size_bytes": 560,
              "truncated_string_columns": []
            },
            "display_id": "66b4e014-fcaf-4e81-9986-aca425096d18",
            "dx_settings": {
              "ALLOW_NOTEABLE_ATTRS": true,
              "COLUMN_SAMPLING_METHOD": "outer",
              "DB_LOCATION": ":memory:",
              "DEV_MODE": false,
              "DISPLAY_MAX_COLUMNS": 100,
              "DISPLAY_MAX_ROWS": 50000,
              "DISPLAY_MODE": "simple",
              "ENABLE_ASSIGNMENT": true,
              "ENABLE_DATALINK": true,
              "FLATTEN_COLUMN_VALUES": true,
              "FLATTEN_INDEX_VALUES": false,
              "GENERATE_DEX_METADATA": false,
              "HTML_TABLE_SCHEMA": false,
              "LOG_LEVEL": 30,
              "MAX_RENDER_SIZE_BYTES": 104857600,
              "MAX_STRING_LENGTH": 250,
              "NUM_PAST_SAMPLES_TRACKED": 3,
              "RANDOM_STATE": 12648430,
              "RESET_INDEX_VALUES": false,
              "ROW_SAMPLING_METHOD": "random",
              "SAMPLING_FACTOR": 0.1,
              "SAMPLING_METHOD": "random",
              "STRINGIFY_COLUMN_VALUES": true,
              "STRINGIFY_INDEX_VALUES": false
            },
            "sample_history": [],
            "sampling_time": "2023-12-12T08:36:13.147800",
            "user_variable_name": null,
            "variable_name": "unk_dataframe_95dff9bf0cc1489c998b9fcd7091bccb"
          },
          "7eef3dde-8d1c-4d09-a800-c0b8707f34bf": {
            "applied_filters": [],
            "dataframe_info": {
              "default_index_used": true,
              "orig_num_cols": 6,
              "orig_num_rows": 10,
              "orig_size_bytes": 560,
              "truncated_num_cols": 6,
              "truncated_num_rows": 10,
              "truncated_size_bytes": 560,
              "truncated_string_columns": []
            },
            "display_id": "7eef3dde-8d1c-4d09-a800-c0b8707f34bf",
            "dx_settings": {
              "ALLOW_NOTEABLE_ATTRS": true,
              "COLUMN_SAMPLING_METHOD": "outer",
              "DB_LOCATION": ":memory:",
              "DEV_MODE": false,
              "DISPLAY_MAX_COLUMNS": 100,
              "DISPLAY_MAX_ROWS": 50000,
              "DISPLAY_MODE": "simple",
              "ENABLE_ASSIGNMENT": true,
              "ENABLE_DATALINK": true,
              "FLATTEN_COLUMN_VALUES": true,
              "FLATTEN_INDEX_VALUES": false,
              "GENERATE_DEX_METADATA": false,
              "HTML_TABLE_SCHEMA": false,
              "LOG_LEVEL": 30,
              "MAX_RENDER_SIZE_BYTES": 104857600,
              "MAX_STRING_LENGTH": 250,
              "NUM_PAST_SAMPLES_TRACKED": 3,
              "RANDOM_STATE": 12648430,
              "RESET_INDEX_VALUES": false,
              "ROW_SAMPLING_METHOD": "random",
              "SAMPLING_FACTOR": 0.1,
              "SAMPLING_METHOD": "random",
              "STRINGIFY_COLUMN_VALUES": true,
              "STRINGIFY_INDEX_VALUES": false
            },
            "sample_history": [],
            "sampling_time": "2023-12-12T08:36:19.447030",
            "user_variable_name": null,
            "variable_name": "unk_dataframe_bec07c5346ea474ea6794e7b882e7ae0"
          },
          "d112623b-b51e-459a-975c-dbcab5346063": {
            "applied_filters": [],
            "dataframe_info": {
              "default_index_used": true,
              "orig_num_cols": 6,
              "orig_num_rows": 10,
              "orig_size_bytes": 560,
              "truncated_num_cols": 6,
              "truncated_num_rows": 10,
              "truncated_size_bytes": 560,
              "truncated_string_columns": []
            },
            "display_id": "d112623b-b51e-459a-975c-dbcab5346063",
            "dx_settings": {
              "ALLOW_NOTEABLE_ATTRS": true,
              "COLUMN_SAMPLING_METHOD": "outer",
              "DB_LOCATION": ":memory:",
              "DEV_MODE": false,
              "DISPLAY_MAX_COLUMNS": 100,
              "DISPLAY_MAX_ROWS": 50000,
              "DISPLAY_MODE": "simple",
              "ENABLE_ASSIGNMENT": true,
              "ENABLE_DATALINK": true,
              "FLATTEN_COLUMN_VALUES": true,
              "FLATTEN_INDEX_VALUES": false,
              "GENERATE_DEX_METADATA": false,
              "HTML_TABLE_SCHEMA": false,
              "LOG_LEVEL": 30,
              "MAX_RENDER_SIZE_BYTES": 104857600,
              "MAX_STRING_LENGTH": 250,
              "NUM_PAST_SAMPLES_TRACKED": 3,
              "RANDOM_STATE": 12648430,
              "RESET_INDEX_VALUES": false,
              "ROW_SAMPLING_METHOD": "random",
              "SAMPLING_FACTOR": 0.1,
              "SAMPLING_METHOD": "random",
              "STRINGIFY_COLUMN_VALUES": true,
              "STRINGIFY_INDEX_VALUES": false
            },
            "sample_history": [],
            "sampling_time": "2023-12-12T08:37:45.024320",
            "user_variable_name": null,
            "variable_name": "unk_dataframe_45bb9d085ea54a8e8fe98c363dd6e1e8"
          },
          "3b26c375-6c2d-4b1d-be89-35abcad91076": {
            "applied_filters": [],
            "dataframe_info": {
              "default_index_used": true,
              "orig_num_cols": 6,
              "orig_num_rows": 10,
              "orig_size_bytes": 560,
              "truncated_num_cols": 6,
              "truncated_num_rows": 10,
              "truncated_size_bytes": 560,
              "truncated_string_columns": []
            },
            "display_id": "3b26c375-6c2d-4b1d-be89-35abcad91076",
            "dx_settings": {
              "ALLOW_NOTEABLE_ATTRS": true,
              "COLUMN_SAMPLING_METHOD": "outer",
              "DB_LOCATION": ":memory:",
              "DEV_MODE": false,
              "DISPLAY_MAX_COLUMNS": 100,
              "DISPLAY_MAX_ROWS": 50000,
              "DISPLAY_MODE": "simple",
              "ENABLE_ASSIGNMENT": true,
              "ENABLE_DATALINK": true,
              "FLATTEN_COLUMN_VALUES": true,
              "FLATTEN_INDEX_VALUES": false,
              "GENERATE_DEX_METADATA": false,
              "HTML_TABLE_SCHEMA": false,
              "LOG_LEVEL": 30,
              "MAX_RENDER_SIZE_BYTES": 104857600,
              "MAX_STRING_LENGTH": 250,
              "NUM_PAST_SAMPLES_TRACKED": 3,
              "RANDOM_STATE": 12648430,
              "RESET_INDEX_VALUES": false,
              "ROW_SAMPLING_METHOD": "random",
              "SAMPLING_FACTOR": 0.1,
              "SAMPLING_METHOD": "random",
              "STRINGIFY_COLUMN_VALUES": true,
              "STRINGIFY_INDEX_VALUES": false
            },
            "sample_history": [],
            "sampling_time": "2023-12-12T08:38:27.298286",
            "user_variable_name": null,
            "variable_name": "unk_dataframe_55b8ade7fe69498386087630848added"
          }
        }
      },
      "execution_count": null,
      "source": "df3[~df3['total_sqft'].apply(is_float)].head(10) # It will return total_sqrt values that are need to be engineered",
      "outputs": []
    },
    {
      "id": "e76014bf-1743-4de0-81d0-bde94b584b3e",
      "cell_type": "markdown",
      "source": "#### Above shows that total_sqft can be a range (e.g. 2100-2850). For such case we can just take average of min and max value in the range. There are other cases such as 34.46Sq. Meter which one can convert to square ft using unit conversion. I am going to just drop such corner cases to keep things simple",
      "metadata": {
        "noteable": {
          "cell_type": "markdown"
        }
      }
    },
    {
      "id": "d56003ce-9b3d-4974-971d-499d1d14141d",
      "cell_type": "code",
      "metadata": {
        "noteable": {
          "cell_type": "python",
          "output_collection_id": "7f2f96d0-883c-4393-80e0-68199e4610b9"
        },
        "ExecuteTime": {
          "end_time": "2023-12-12T08:39:34.875496+00:00",
          "start_time": "2023-12-12T08:39:34.720054+00:00"
        }
      },
      "execution_count": null,
      "source": "def convert_sqft_to_num(x):\n    tokens = x.split('-')\n    if len(tokens) == 2:\n        return (float(tokens[0])+float(tokens[1]))/2\n    try:\n        return float(x)\n    except:\n        return None   ",
      "outputs": []
    },
    {
      "id": "1d7f64a8-105e-4fb2-83ce-f981b33e3957",
      "cell_type": "code",
      "metadata": {
        "jupyter": {
          "outputs_hidden": false,
          "source_hidden": false
        },
        "noteable": {
          "cell_type": "code",
          "output_collection_id": "a2eeb6a3-2eb4-4cbb-aa05-a11c9fe969d3"
        },
        "ExecuteTime": {
          "end_time": "2023-12-12T08:41:21.353462+00:00",
          "start_time": "2023-12-12T08:41:21.019318+00:00"
        },
        "datalink": {
          "f177a480-be02-4796-94cd-c90954f7eae5": {
            "applied_filters": [],
            "dataframe_info": {
              "default_index_used": true,
              "orig_num_cols": 6,
              "orig_num_rows": 2,
              "orig_size_bytes": 112,
              "truncated_num_cols": 6,
              "truncated_num_rows": 2,
              "truncated_size_bytes": 112,
              "truncated_string_columns": []
            },
            "display_id": "f177a480-be02-4796-94cd-c90954f7eae5",
            "dx_settings": {
              "ALLOW_NOTEABLE_ATTRS": true,
              "COLUMN_SAMPLING_METHOD": "outer",
              "DB_LOCATION": ":memory:",
              "DEV_MODE": false,
              "DISPLAY_MAX_COLUMNS": 100,
              "DISPLAY_MAX_ROWS": 50000,
              "DISPLAY_MODE": "simple",
              "ENABLE_ASSIGNMENT": true,
              "ENABLE_DATALINK": true,
              "FLATTEN_COLUMN_VALUES": true,
              "FLATTEN_INDEX_VALUES": false,
              "GENERATE_DEX_METADATA": false,
              "HTML_TABLE_SCHEMA": false,
              "LOG_LEVEL": 30,
              "MAX_RENDER_SIZE_BYTES": 104857600,
              "MAX_STRING_LENGTH": 250,
              "NUM_PAST_SAMPLES_TRACKED": 3,
              "RANDOM_STATE": 12648430,
              "RESET_INDEX_VALUES": false,
              "ROW_SAMPLING_METHOD": "random",
              "SAMPLING_FACTOR": 0.1,
              "SAMPLING_METHOD": "random",
              "STRINGIFY_COLUMN_VALUES": true,
              "STRINGIFY_INDEX_VALUES": false
            },
            "sample_history": [],
            "sampling_time": "2023-12-12T08:41:21.192862",
            "user_variable_name": null,
            "variable_name": "unk_dataframe_13f0bc154570428fb97d2127cdbe0a26"
          }
        }
      },
      "execution_count": null,
      "source": "df4 = df3.copy()\ndf4.total_sqft = df4.total_sqft.apply(convert_sqft_to_num)\ndf4 = df4[df4.total_sqft.notnull()]\ndf4.head(2)",
      "outputs": []
    },
    {
      "id": "391534fb-2019-4a3d-a48c-fa667e4cc734",
      "cell_type": "markdown",
      "source": "### Add new feature called price per square feet",
      "metadata": {
        "noteable": {
          "cell_type": "markdown"
        }
      }
    },
    {
      "id": "41436fc4-0dd2-4fbe-a003-3a87883edaf3",
      "cell_type": "code",
      "metadata": {
        "noteable": {
          "cell_type": "python",
          "output_collection_id": "ea6e343a-5841-4354-8c4e-f06849517304"
        },
        "ExecuteTime": {
          "end_time": "2023-12-12T08:43:30.282908+00:00",
          "start_time": "2023-12-12T08:43:29.983529+00:00"
        },
        "datalink": {
          "8b629fc2-f539-411f-a2a1-e97a217cf135": {
            "applied_filters": [],
            "dataframe_info": {
              "default_index_used": true,
              "orig_num_cols": 7,
              "orig_num_rows": 5,
              "orig_size_bytes": 320,
              "truncated_num_cols": 7,
              "truncated_num_rows": 5,
              "truncated_size_bytes": 320,
              "truncated_string_columns": []
            },
            "display_id": "8b629fc2-f539-411f-a2a1-e97a217cf135",
            "dx_settings": {
              "ALLOW_NOTEABLE_ATTRS": true,
              "COLUMN_SAMPLING_METHOD": "outer",
              "DB_LOCATION": ":memory:",
              "DEV_MODE": false,
              "DISPLAY_MAX_COLUMNS": 100,
              "DISPLAY_MAX_ROWS": 50000,
              "DISPLAY_MODE": "simple",
              "ENABLE_ASSIGNMENT": true,
              "ENABLE_DATALINK": true,
              "FLATTEN_COLUMN_VALUES": true,
              "FLATTEN_INDEX_VALUES": false,
              "GENERATE_DEX_METADATA": false,
              "HTML_TABLE_SCHEMA": false,
              "LOG_LEVEL": 30,
              "MAX_RENDER_SIZE_BYTES": 104857600,
              "MAX_STRING_LENGTH": 250,
              "NUM_PAST_SAMPLES_TRACKED": 3,
              "RANDOM_STATE": 12648430,
              "RESET_INDEX_VALUES": false,
              "ROW_SAMPLING_METHOD": "random",
              "SAMPLING_FACTOR": 0.1,
              "SAMPLING_METHOD": "random",
              "STRINGIFY_COLUMN_VALUES": true,
              "STRINGIFY_INDEX_VALUES": false
            },
            "sample_history": [],
            "sampling_time": "2023-12-12T08:43:30.122193",
            "user_variable_name": null,
            "variable_name": "unk_dataframe_bd1217971eb84e2bb924d12e9ab05fcd"
          }
        }
      },
      "execution_count": null,
      "source": "df5 = df4.copy()\ndf5['price_per_sqft'] = df5['price']*100000/df5['total_sqft']\ndf5.head()",
      "outputs": []
    },
    {
      "id": "d81b0390-b744-40ed-a863-3e2d6875533c",
      "cell_type": "code",
      "metadata": {
        "jupyter": {
          "outputs_hidden": false,
          "source_hidden": false
        },
        "noteable": {
          "cell_type": "code",
          "output_collection_id": "58975f1e-536a-409a-8e21-c23806577710"
        },
        "ExecuteTime": {
          "end_time": "2023-12-12T08:43:46.010400+00:00",
          "start_time": "2023-12-12T08:43:45.719063+00:00"
        },
        "datalink": {
          "ad97dc19-a9a0-4721-bbc7-474648cafe55": {
            "applied_filters": [],
            "dataframe_info": {
              "default_index_used": false,
              "orig_num_cols": 1,
              "orig_num_rows": 8,
              "orig_size_bytes": 128,
              "truncated_num_cols": 1,
              "truncated_num_rows": 8,
              "truncated_size_bytes": 128,
              "truncated_string_columns": []
            },
            "display_id": "ad97dc19-a9a0-4721-bbc7-474648cafe55",
            "dx_settings": {
              "ALLOW_NOTEABLE_ATTRS": true,
              "COLUMN_SAMPLING_METHOD": "outer",
              "DB_LOCATION": ":memory:",
              "DEV_MODE": false,
              "DISPLAY_MAX_COLUMNS": 100,
              "DISPLAY_MAX_ROWS": 50000,
              "DISPLAY_MODE": "simple",
              "ENABLE_ASSIGNMENT": true,
              "ENABLE_DATALINK": true,
              "FLATTEN_COLUMN_VALUES": true,
              "FLATTEN_INDEX_VALUES": false,
              "GENERATE_DEX_METADATA": false,
              "HTML_TABLE_SCHEMA": false,
              "LOG_LEVEL": 30,
              "MAX_RENDER_SIZE_BYTES": 104857600,
              "MAX_STRING_LENGTH": 250,
              "NUM_PAST_SAMPLES_TRACKED": 3,
              "RANDOM_STATE": 12648430,
              "RESET_INDEX_VALUES": false,
              "ROW_SAMPLING_METHOD": "random",
              "SAMPLING_FACTOR": 0.1,
              "SAMPLING_METHOD": "random",
              "STRINGIFY_COLUMN_VALUES": true,
              "STRINGIFY_INDEX_VALUES": false
            },
            "sample_history": [],
            "sampling_time": "2023-12-12T08:43:45.851375",
            "user_variable_name": "df5_stats",
            "variable_name": "df5_stats"
          }
        }
      },
      "execution_count": null,
      "source": "df5_stats = df5['price_per_sqft'].describe()\ndf5_stats\n# df5.to_csv(\"bhp.csv\",index=False)",
      "outputs": []
    },
    {
      "id": "5db6e478-ad07-4c82-81e3-e72f0020df7d",
      "cell_type": "markdown",
      "source": "### Examine locations which is a categorical variable. We need to apply dimensionality reduction technique here to reduce number of locations",
      "metadata": {
        "noteable": {
          "cell_type": "markdown"
        }
      }
    },
    {
      "id": "b74770d5-31fa-4c53-9d6e-f33f5b81ca12",
      "cell_type": "code",
      "metadata": {
        "noteable": {
          "cell_type": "python",
          "output_collection_id": "28b7806e-1ea1-4ddd-bebb-5765fcb3ba66"
        },
        "ExecuteTime": {
          "end_time": "2023-12-12T08:45:55.514334+00:00",
          "start_time": "2023-12-12T08:45:55.215884+00:00"
        },
        "datalink": {
          "2e4a942e-8ef5-4ab3-a6c9-91f91a7c5466": {
            "applied_filters": [],
            "dataframe_info": {
              "default_index_used": false,
              "orig_num_cols": 1,
              "orig_num_rows": 1287,
              "orig_size_bytes": 20592,
              "truncated_num_cols": 1,
              "truncated_num_rows": 1287,
              "truncated_size_bytes": 20592,
              "truncated_string_columns": []
            },
            "display_id": "2e4a942e-8ef5-4ab3-a6c9-91f91a7c5466",
            "dx_settings": {
              "ALLOW_NOTEABLE_ATTRS": true,
              "COLUMN_SAMPLING_METHOD": "outer",
              "DB_LOCATION": ":memory:",
              "DEV_MODE": false,
              "DISPLAY_MAX_COLUMNS": 100,
              "DISPLAY_MAX_ROWS": 50000,
              "DISPLAY_MODE": "simple",
              "ENABLE_ASSIGNMENT": true,
              "ENABLE_DATALINK": true,
              "FLATTEN_COLUMN_VALUES": true,
              "FLATTEN_INDEX_VALUES": false,
              "GENERATE_DEX_METADATA": false,
              "HTML_TABLE_SCHEMA": false,
              "LOG_LEVEL": 30,
              "MAX_RENDER_SIZE_BYTES": 104857600,
              "MAX_STRING_LENGTH": 250,
              "NUM_PAST_SAMPLES_TRACKED": 3,
              "RANDOM_STATE": 12648430,
              "RESET_INDEX_VALUES": false,
              "ROW_SAMPLING_METHOD": "random",
              "SAMPLING_FACTOR": 0.1,
              "SAMPLING_METHOD": "random",
              "STRINGIFY_COLUMN_VALUES": true,
              "STRINGIFY_INDEX_VALUES": false
            },
            "sample_history": [],
            "sampling_time": "2023-12-12T08:45:55.352774",
            "user_variable_name": "location_stats",
            "variable_name": "location_stats"
          }
        }
      },
      "execution_count": null,
      "source": "df5.location = df5.location.apply(lambda x: x.strip())\nlocation_stats = df5['location'].value_counts(ascending=False)\nlocation_stats",
      "outputs": []
    },
    {
      "id": "d575e5fb-834e-4c37-b5a3-22238eecf380",
      "cell_type": "code",
      "metadata": {
        "jupyter": {
          "outputs_hidden": false,
          "source_hidden": false
        },
        "noteable": {
          "cell_type": "code",
          "output_collection_id": "9edf8a0d-6490-4d88-9876-852e7fddfd2f"
        },
        "ExecuteTime": {
          "end_time": "2023-12-12T08:49:07.758789+00:00",
          "start_time": "2023-12-12T08:49:07.601638+00:00"
        }
      },
      "execution_count": null,
      "source": "location_stats.values",
      "outputs": []
    },
    {
      "id": "df69d6ac-22e9-4334-8197-3de3e27d98de",
      "cell_type": "markdown",
      "source": "# Dimensionality Reduction",
      "metadata": {
        "noteable": {
          "cell_type": "markdown"
        }
      }
    },
    {
      "id": "ffa74f1f-a021-4549-a1ba-ca843e7342b1",
      "cell_type": "markdown",
      "source": "### Any location having less than 10 data points should be tagged as \"other\" location. This way number of categories can be reduced by huge amount. Later on when we do one hot encoding, it will help us with having fewer dummy columns",
      "metadata": {
        "noteable": {
          "cell_type": "markdown"
        }
      }
    },
    {
      "id": "30a7532a-1ee0-44de-9115-a6e311414cbf",
      "cell_type": "code",
      "metadata": {
        "noteable": {
          "cell_type": "python",
          "output_collection_id": "5fd25ecc-83cd-4725-8b73-865d17962dc9"
        },
        "ExecuteTime": {
          "end_time": "2023-12-12T08:51:55.000356+00:00",
          "start_time": "2023-12-12T08:51:54.694445+00:00"
        },
        "datalink": {
          "6795b28d-3d8e-49a7-92d3-e20821709506": {
            "applied_filters": [],
            "dataframe_info": {
              "default_index_used": false,
              "orig_num_cols": 1,
              "orig_num_rows": 5,
              "orig_size_bytes": 80,
              "truncated_num_cols": 1,
              "truncated_num_rows": 5,
              "truncated_size_bytes": 80,
              "truncated_string_columns": []
            },
            "display_id": "6795b28d-3d8e-49a7-92d3-e20821709506",
            "dx_settings": {
              "ALLOW_NOTEABLE_ATTRS": true,
              "COLUMN_SAMPLING_METHOD": "outer",
              "DB_LOCATION": ":memory:",
              "DEV_MODE": false,
              "DISPLAY_MAX_COLUMNS": 100,
              "DISPLAY_MAX_ROWS": 50000,
              "DISPLAY_MODE": "simple",
              "ENABLE_ASSIGNMENT": true,
              "ENABLE_DATALINK": true,
              "FLATTEN_COLUMN_VALUES": true,
              "FLATTEN_INDEX_VALUES": false,
              "GENERATE_DEX_METADATA": false,
              "HTML_TABLE_SCHEMA": false,
              "LOG_LEVEL": 30,
              "MAX_RENDER_SIZE_BYTES": 104857600,
              "MAX_STRING_LENGTH": 250,
              "NUM_PAST_SAMPLES_TRACKED": 3,
              "RANDOM_STATE": 12648430,
              "RESET_INDEX_VALUES": false,
              "ROW_SAMPLING_METHOD": "random",
              "SAMPLING_FACTOR": 0.1,
              "SAMPLING_METHOD": "random",
              "STRINGIFY_COLUMN_VALUES": true,
              "STRINGIFY_INDEX_VALUES": false
            },
            "sample_history": [],
            "sampling_time": "2023-12-12T08:51:41.977101",
            "user_variable_name": null,
            "variable_name": "unk_dataframe_02657ab4a99b4731a7f94237d4983ea2"
          },
          "c5a3d607-6d49-4e81-a633-131c1108ebd1": {
            "applied_filters": [],
            "dataframe_info": {
              "default_index_used": false,
              "orig_num_cols": 1,
              "orig_num_rows": 1047,
              "orig_size_bytes": 16752,
              "truncated_num_cols": 1,
              "truncated_num_rows": 1047,
              "truncated_size_bytes": 16752,
              "truncated_string_columns": []
            },
            "display_id": "c5a3d607-6d49-4e81-a633-131c1108ebd1",
            "dx_settings": {
              "ALLOW_NOTEABLE_ATTRS": true,
              "COLUMN_SAMPLING_METHOD": "outer",
              "DB_LOCATION": ":memory:",
              "DEV_MODE": false,
              "DISPLAY_MAX_COLUMNS": 100,
              "DISPLAY_MAX_ROWS": 50000,
              "DISPLAY_MODE": "simple",
              "ENABLE_ASSIGNMENT": true,
              "ENABLE_DATALINK": true,
              "FLATTEN_COLUMN_VALUES": true,
              "FLATTEN_INDEX_VALUES": false,
              "GENERATE_DEX_METADATA": false,
              "HTML_TABLE_SCHEMA": false,
              "LOG_LEVEL": 30,
              "MAX_RENDER_SIZE_BYTES": 104857600,
              "MAX_STRING_LENGTH": 250,
              "NUM_PAST_SAMPLES_TRACKED": 3,
              "RANDOM_STATE": 12648430,
              "RESET_INDEX_VALUES": false,
              "ROW_SAMPLING_METHOD": "random",
              "SAMPLING_FACTOR": 0.1,
              "SAMPLING_METHOD": "random",
              "STRINGIFY_COLUMN_VALUES": true,
              "STRINGIFY_INDEX_VALUES": false
            },
            "sample_history": [],
            "sampling_time": "2023-12-12T08:51:54.838911",
            "user_variable_name": "location_stats_less_than_10",
            "variable_name": "location_stats_less_than_10"
          }
        }
      },
      "execution_count": null,
      "source": "location_stats_less_than_10 = location_stats[location_stats<=10]\nlocation_stats_less_than_10",
      "outputs": []
    },
    {
      "id": "ad8a34ef-8ecd-4749-bb63-448b0d6dc3e5",
      "cell_type": "code",
      "metadata": {
        "jupyter": {
          "outputs_hidden": false,
          "source_hidden": false
        },
        "noteable": {
          "cell_type": "code",
          "output_collection_id": "b32c1a9f-9d3d-44ad-88d2-9235f3ad9f14"
        },
        "ExecuteTime": {
          "end_time": "2023-12-12T08:53:52.806031+00:00",
          "start_time": "2023-12-12T08:53:52.629704+00:00"
        }
      },
      "execution_count": null,
      "source": "df5.location = df5.location.apply(lambda x: 'other' if x in location_stats_less_than_10 else x)\nlen(df5.location.unique())",
      "outputs": []
    },
    {
      "id": "df1939bb-e60c-469d-9ca6-e003692c67e9",
      "cell_type": "code",
      "metadata": {
        "jupyter": {
          "outputs_hidden": false,
          "source_hidden": false
        },
        "noteable": {
          "cell_type": "code",
          "output_collection_id": "913a3e4c-0de6-486a-b2a8-5032071304aa"
        },
        "ExecuteTime": {
          "end_time": "2023-12-12T08:54:11.906350+00:00",
          "start_time": "2023-12-12T08:54:11.597464+00:00"
        },
        "datalink": {
          "d6dab7d8-2993-4b94-b180-36f5071aa576": {
            "applied_filters": [],
            "dataframe_info": {
              "default_index_used": true,
              "orig_num_cols": 7,
              "orig_num_rows": 10,
              "orig_size_bytes": 640,
              "truncated_num_cols": 7,
              "truncated_num_rows": 10,
              "truncated_size_bytes": 640,
              "truncated_string_columns": []
            },
            "display_id": "d6dab7d8-2993-4b94-b180-36f5071aa576",
            "dx_settings": {
              "ALLOW_NOTEABLE_ATTRS": true,
              "COLUMN_SAMPLING_METHOD": "outer",
              "DB_LOCATION": ":memory:",
              "DEV_MODE": false,
              "DISPLAY_MAX_COLUMNS": 100,
              "DISPLAY_MAX_ROWS": 50000,
              "DISPLAY_MODE": "simple",
              "ENABLE_ASSIGNMENT": true,
              "ENABLE_DATALINK": true,
              "FLATTEN_COLUMN_VALUES": true,
              "FLATTEN_INDEX_VALUES": false,
              "GENERATE_DEX_METADATA": false,
              "HTML_TABLE_SCHEMA": false,
              "LOG_LEVEL": 30,
              "MAX_RENDER_SIZE_BYTES": 104857600,
              "MAX_STRING_LENGTH": 250,
              "NUM_PAST_SAMPLES_TRACKED": 3,
              "RANDOM_STATE": 12648430,
              "RESET_INDEX_VALUES": false,
              "ROW_SAMPLING_METHOD": "random",
              "SAMPLING_FACTOR": 0.1,
              "SAMPLING_METHOD": "random",
              "STRINGIFY_COLUMN_VALUES": true,
              "STRINGIFY_INDEX_VALUES": false
            },
            "sample_history": [],
            "sampling_time": "2023-12-12T08:54:11.745469",
            "user_variable_name": null,
            "variable_name": "unk_dataframe_b0c9a795105d44f3a2102bdbb0831fb5"
          }
        }
      },
      "execution_count": null,
      "source": "df5.head(10)",
      "outputs": []
    },
    {
      "id": "e93dbe18-7d48-49d2-a134-2129a082eea4",
      "cell_type": "markdown",
      "source": "## Outlier Removal Using Business Logic\n",
      "metadata": {
        "noteable": {
          "cell_type": "markdown"
        }
      }
    },
    {
      "id": "01d1bc24-3d47-483d-a327-4dc43891993f",
      "cell_type": "markdown",
      "source": "### As a data scientist when you have a conversation with your business manager (who has expertise in real estate), he will tell you that normally square ft per bedroom is 300 (i.e. 2 bhk apartment is minimum 600 sqft. If you have for example 400 sqft apartment with 2 bhk than that seems suspicious and can be removed as an outlier. We will remove such outliers by keeping our minimum thresold per bhk to be 300 sqft",
      "metadata": {
        "noteable": {
          "cell_type": "markdown"
        }
      }
    },
    {
      "id": "6a34dd66-11e5-4b09-ad35-412b865902da",
      "cell_type": "code",
      "metadata": {
        "noteable": {
          "cell_type": "python",
          "output_collection_id": "889feae7-eeb4-4015-9877-d56defd6efce"
        },
        "ExecuteTime": {
          "end_time": "2023-12-12T08:58:03.526270+00:00",
          "start_time": "2023-12-12T08:58:03.212052+00:00"
        },
        "datalink": {
          "dfdf2340-91c1-4f65-8701-3610165c9413": {
            "applied_filters": [],
            "dataframe_info": {
              "default_index_used": true,
              "orig_num_cols": 7,
              "orig_num_rows": 5,
              "orig_size_bytes": 320,
              "truncated_num_cols": 7,
              "truncated_num_rows": 5,
              "truncated_size_bytes": 320,
              "truncated_string_columns": []
            },
            "display_id": "dfdf2340-91c1-4f65-8701-3610165c9413",
            "dx_settings": {
              "ALLOW_NOTEABLE_ATTRS": true,
              "COLUMN_SAMPLING_METHOD": "outer",
              "DB_LOCATION": ":memory:",
              "DEV_MODE": false,
              "DISPLAY_MAX_COLUMNS": 100,
              "DISPLAY_MAX_ROWS": 50000,
              "DISPLAY_MODE": "simple",
              "ENABLE_ASSIGNMENT": true,
              "ENABLE_DATALINK": true,
              "FLATTEN_COLUMN_VALUES": true,
              "FLATTEN_INDEX_VALUES": false,
              "GENERATE_DEX_METADATA": false,
              "HTML_TABLE_SCHEMA": false,
              "LOG_LEVEL": 30,
              "MAX_RENDER_SIZE_BYTES": 104857600,
              "MAX_STRING_LENGTH": 250,
              "NUM_PAST_SAMPLES_TRACKED": 3,
              "RANDOM_STATE": 12648430,
              "RESET_INDEX_VALUES": false,
              "ROW_SAMPLING_METHOD": "random",
              "SAMPLING_FACTOR": 0.1,
              "SAMPLING_METHOD": "random",
              "STRINGIFY_COLUMN_VALUES": true,
              "STRINGIFY_INDEX_VALUES": false
            },
            "sample_history": [],
            "sampling_time": "2023-12-12T08:58:03.363364",
            "user_variable_name": null,
            "variable_name": "unk_dataframe_544a5fc60f9e40159c52051ef929d953"
          }
        }
      },
      "execution_count": null,
      "source": "df5[df5.total_sqft/df5.bhk<300].head()",
      "outputs": []
    },
    {
      "id": "6a7fbae7-8cdf-454c-bc49-6cf1b819f258",
      "cell_type": "markdown",
      "source": "### Check above data points. We have 6 bhk apartment with 1020 sqft. Another one is 8 bhk and total sqft is 600. These are clear data errors that can be removed safely",
      "metadata": {
        "noteable": {
          "cell_type": "markdown"
        }
      }
    },
    {
      "id": "e4ad1b71-fd9c-4d94-8a63-fb052aeffdbd",
      "cell_type": "code",
      "metadata": {
        "noteable": {
          "cell_type": "python",
          "output_collection_id": "780f9e2d-2031-48fc-851f-5212182d00b5"
        },
        "ExecuteTime": {
          "end_time": "2023-12-12T08:58:45.505617+00:00",
          "start_time": "2023-12-12T08:58:45.346827+00:00"
        }
      },
      "execution_count": null,
      "source": "df6 = df5[~(df5.total_sqft/df5.bhk<300)]\ndf6.shape",
      "outputs": []
    },
    {
      "id": "a91f41ef-a2a7-4219-baf9-01da5be0c472",
      "cell_type": "markdown",
      "source": "## Outlier Removal Using Standard Deviation and Mean",
      "metadata": {
        "noteable": {
          "cell_type": "markdown"
        }
      }
    },
    {
      "id": "26aa9703-dfe4-4f53-aa1f-e0b24c9fe687",
      "cell_type": "code",
      "metadata": {
        "noteable": {
          "cell_type": "python",
          "output_collection_id": "88b53b24-7638-436d-aa3c-cc277be25087"
        },
        "ExecuteTime": {
          "end_time": "2023-12-12T08:59:41.997083+00:00",
          "start_time": "2023-12-12T08:59:41.679834+00:00"
        },
        "datalink": {
          "4bdd1235-4828-41b4-8d6e-f6ae45135ec1": {
            "applied_filters": [],
            "dataframe_info": {
              "default_index_used": false,
              "orig_num_cols": 1,
              "orig_num_rows": 8,
              "orig_size_bytes": 128,
              "truncated_num_cols": 1,
              "truncated_num_rows": 8,
              "truncated_size_bytes": 128,
              "truncated_string_columns": []
            },
            "display_id": "4bdd1235-4828-41b4-8d6e-f6ae45135ec1",
            "dx_settings": {
              "ALLOW_NOTEABLE_ATTRS": true,
              "COLUMN_SAMPLING_METHOD": "outer",
              "DB_LOCATION": ":memory:",
              "DEV_MODE": false,
              "DISPLAY_MAX_COLUMNS": 100,
              "DISPLAY_MAX_ROWS": 50000,
              "DISPLAY_MODE": "simple",
              "ENABLE_ASSIGNMENT": true,
              "ENABLE_DATALINK": true,
              "FLATTEN_COLUMN_VALUES": true,
              "FLATTEN_INDEX_VALUES": false,
              "GENERATE_DEX_METADATA": false,
              "HTML_TABLE_SCHEMA": false,
              "LOG_LEVEL": 30,
              "MAX_RENDER_SIZE_BYTES": 104857600,
              "MAX_STRING_LENGTH": 250,
              "NUM_PAST_SAMPLES_TRACKED": 3,
              "RANDOM_STATE": 12648430,
              "RESET_INDEX_VALUES": false,
              "ROW_SAMPLING_METHOD": "random",
              "SAMPLING_FACTOR": 0.1,
              "SAMPLING_METHOD": "random",
              "STRINGIFY_COLUMN_VALUES": true,
              "STRINGIFY_INDEX_VALUES": false
            },
            "sample_history": [],
            "sampling_time": "2023-12-12T08:59:41.838603",
            "user_variable_name": null,
            "variable_name": "unk_dataframe_f7451f2190c4420b8eec70a88e19ef3e"
          }
        }
      },
      "execution_count": null,
      "source": "df6.price_per_sqft.describe()",
      "outputs": []
    },
    {
      "id": "7e174fdf-4f5d-4d21-8b49-e7af1ac49fc3",
      "cell_type": "markdown",
      "source": "### Here we find that min price per sqft is 267 rs/sqft whereas max is 12000000, this shows a wide variation in property prices. We should remove outliers per location using mean and one standard deviation",
      "metadata": {
        "noteable": {
          "cell_type": "markdown"
        }
      }
    },
    {
      "id": "aac7dc32-4103-4012-a860-84ae9643c9b4",
      "cell_type": "code",
      "metadata": {
        "noteable": {
          "cell_type": "python",
          "output_collection_id": "3f249e7e-e460-4f96-a2c3-71e0877fdd5e"
        },
        "ExecuteTime": {
          "end_time": "2023-12-12T09:03:58.879698+00:00",
          "start_time": "2023-12-12T09:03:58.471003+00:00"
        }
      },
      "execution_count": null,
      "source": "def remove_pps_outliers(df):\n    df_out = pd.DataFrame()\n    for key, subdf in df.groupby('location'):\n        m = np.mean(subdf.price_per_sqft)\n        st = np.std(subdf.price_per_sqft)\n        reduced_df = subdf[(subdf.price_per_sqft>(m-st)) & (subdf.price_per_sqft<=(m+st))]\n        df_out = pd.concat([df_out,reduced_df],ignore_index=True)\n    return df_out\ndf7 = remove_pps_outliers(df6)\ndf7.shape",
      "outputs": []
    },
    {
      "id": "13f1c8b3-989d-40f0-a61f-93f233ae5144",
      "cell_type": "markdown",
      "source": "### Let's check if for a given location how does the 2 BHK and 3 BHK property prices look like",
      "metadata": {
        "noteable": {
          "cell_type": "markdown"
        }
      }
    },
    {
      "id": "8349104e-0216-4e1e-81d5-b737b7a1d445",
      "cell_type": "code",
      "metadata": {
        "noteable": {
          "cell_type": "python",
          "output_collection_id": "4ef86623-c5a8-41b1-b473-b2ad61710641"
        },
        "ExecuteTime": {
          "end_time": "2023-12-12T09:06:53.482497+00:00",
          "start_time": "2023-12-12T09:06:52.810103+00:00"
        }
      },
      "execution_count": null,
      "source": "def plot_scatter_chart(df,location):\n    bhk2 = df[(df.location==location) & (df.bhk==2)]\n    bhk3 = df[(df.location==location) & (df.bhk==3)]\n    matplotlib.rcParams['figure.figsize'] = (15,10)\n    plt.scatter(bhk2.total_sqft,bhk2.price,color='blue',label='2 BHK', s=50)\n    plt.scatter(bhk3.total_sqft,bhk3.price,marker='+', color='green',label='3 BHK', s=50)\n    plt.xlabel(\"Total Square Feet Area\")\n    plt.ylabel(\"Price (Lakh Indian Rupees)\")\n    plt.title(location)\n    plt.legend()\n    \nplot_scatter_chart(df7,\"Rajaji Nagar\")",
      "outputs": []
    },
    {
      "id": "5cc87ce8-a1ee-45d2-b954-95f27ab807cb",
      "cell_type": "code",
      "metadata": {
        "jupyter": {
          "outputs_hidden": false,
          "source_hidden": false
        },
        "noteable": {
          "cell_type": "code",
          "output_collection_id": "6281fbf8-a93a-4278-8149-59bbc0532367"
        },
        "ExecuteTime": {
          "end_time": "2023-12-12T09:08:16.003929+00:00",
          "start_time": "2023-12-12T09:08:15.521463+00:00"
        }
      },
      "execution_count": null,
      "source": "plot_scatter_chart(df7,\"Hebbal\")",
      "outputs": []
    },
    {
      "id": "1a816d56-260c-4222-870e-cd3e416207db",
      "cell_type": "markdown",
      "source": "### We should also remove properties where for same location, the price of (for example) 3 bedroom apartment is less than 2 bedroom apartment (with same square ft area). What we will do is for a given location, we will build a dictionary of stats per bhk, i.e.\n\n{\n    '1' : {\n        'mean': 4000,\n        'std: 2000,\n        'count': 34\n    },\n    '2' : {\n        'mean': 4300,\n        'std: 2300,\n        'count': 22\n    },    \n}\n### Now we can remove those 2 BHK apartments whose price_per_sqft is less than mean price_per_sqft of 1 BHK apartment",
      "metadata": {
        "noteable": {
          "cell_type": "markdown"
        }
      }
    },
    {
      "id": "95f8b458-e962-4408-9524-57e28921cc28",
      "cell_type": "code",
      "metadata": {
        "noteable": {
          "cell_type": "python",
          "output_collection_id": "da0f06cb-39af-4d6f-b3e5-3289accfbb71"
        },
        "ExecuteTime": {
          "end_time": "2023-12-12T09:14:44.845505+00:00",
          "start_time": "2023-12-12T09:14:44.267510+00:00"
        }
      },
      "execution_count": null,
      "source": "def remove_bhk_outliers(df):\n    exclude_indices = np.array([])\n    for location, location_df in df.groupby('location'):\n        bhk_stats = {}\n        for bhk, bhk_df in location_df.groupby('bhk'):\n            bhk_stats[bhk] = {\n                'mean': np.mean(bhk_df.price_per_sqft),\n                'std': np.std(bhk_df.price_per_sqft),\n                'count': bhk_df.shape[0]\n            }\n        for bhk, bhk_df in location_df.groupby('bhk'):\n            stats = bhk_stats.get(bhk-1)\n            if stats and stats['count']>5:\n                exclude_indices = np.append(exclude_indices, bhk_df[bhk_df.price_per_sqft<(stats['mean'])].index.values)\n    return df.drop(exclude_indices,axis='index')\ndf8 = remove_bhk_outliers(df7)\n# df8 = df7.copy()\ndf8.shape",
      "outputs": []
    },
    {
      "id": "f57fb24e-171d-4921-998a-f0a565143a7f",
      "cell_type": "markdown",
      "source": "### Plot same scatter chart again to visualize price_per_sqft for 2 BHK and 3 BHK properties",
      "metadata": {
        "noteable": {
          "cell_type": "markdown"
        }
      }
    },
    {
      "id": "76b9ed05-81a9-42c9-90bd-1c2064809832",
      "cell_type": "code",
      "metadata": {
        "noteable": {
          "cell_type": "python",
          "output_collection_id": "84f48cfd-dd4d-4cee-bfd3-22ff4140451a"
        },
        "ExecuteTime": {
          "end_time": "2023-12-12T09:15:11.637183+00:00",
          "start_time": "2023-12-12T09:15:11.152130+00:00"
        }
      },
      "execution_count": null,
      "source": "plot_scatter_chart(df8,\"Rajaji Nagar\")",
      "outputs": []
    },
    {
      "id": "0523ba04-e780-49a0-971c-099e666e2a81",
      "cell_type": "code",
      "metadata": {
        "jupyter": {
          "outputs_hidden": false,
          "source_hidden": false
        },
        "noteable": {
          "cell_type": "code",
          "output_collection_id": "3577a71e-2aef-4356-b09f-cc00db540ba4"
        },
        "ExecuteTime": {
          "end_time": "2023-12-12T09:15:30.232394+00:00",
          "start_time": "2023-12-12T09:15:29.767906+00:00"
        }
      },
      "execution_count": null,
      "source": "plot_scatter_chart(df8,\"Hebbal\")",
      "outputs": []
    },
    {
      "id": "3f143b4f-5cc7-43e8-8b79-b551f68c4ede",
      "cell_type": "code",
      "metadata": {
        "jupyter": {
          "outputs_hidden": false,
          "source_hidden": false
        },
        "noteable": {
          "cell_type": "code",
          "output_collection_id": "b244f31f-d8ad-46e7-80ad-1cf8159b9280"
        },
        "ExecuteTime": {
          "end_time": "2023-12-12T09:16:00.066653+00:00",
          "start_time": "2023-12-12T09:15:59.659763+00:00"
        }
      },
      "execution_count": null,
      "source": "import matplotlib\nmatplotlib.rcParams[\"figure.figsize\"] = (20,10)\nplt.hist(df8.price_per_sqft,rwidth=0.8)\nplt.xlabel(\"Price Per Square Feet\")\nplt.ylabel(\"Count\")",
      "outputs": []
    },
    {
      "id": "bbfe50ca-fada-41b8-95ca-445f5f322f6f",
      "cell_type": "markdown",
      "source": "## Outlier Removal Using Bathrooms Feature",
      "metadata": {
        "noteable": {
          "cell_type": "markdown"
        }
      }
    },
    {
      "id": "12462640-96d8-4c00-9df2-e4ac7982c6c1",
      "cell_type": "code",
      "metadata": {
        "noteable": {
          "cell_type": "python",
          "output_collection_id": "b9f42e91-c245-4a90-b869-6cb63cee51d0"
        },
        "ExecuteTime": {
          "end_time": "2023-12-12T09:16:44.065454+00:00",
          "start_time": "2023-12-12T09:16:43.908658+00:00"
        }
      },
      "execution_count": null,
      "source": "df8.bath.unique()",
      "outputs": []
    },
    {
      "id": "e06e254e-e0f0-4097-9a85-df35dda54ca2",
      "cell_type": "code",
      "metadata": {
        "jupyter": {
          "outputs_hidden": false,
          "source_hidden": false
        },
        "noteable": {
          "cell_type": "code",
          "output_collection_id": "ab7030a9-f7d5-445c-ba0c-bfc46d1244cb"
        },
        "ExecuteTime": {
          "end_time": "2023-12-12T09:16:56.351416+00:00",
          "start_time": "2023-12-12T09:16:55.906585+00:00"
        }
      },
      "execution_count": null,
      "source": "plt.hist(df8.bath,rwidth=0.8)\nplt.xlabel(\"Number of bathrooms\")\nplt.ylabel(\"Count\")",
      "outputs": []
    },
    {
      "id": "8e4118f1-508e-44b9-9b45-e5df2c7dbe66",
      "cell_type": "code",
      "metadata": {
        "jupyter": {
          "outputs_hidden": false,
          "source_hidden": false
        },
        "noteable": {
          "cell_type": "code",
          "output_collection_id": "1c89c0ba-ad69-41e9-ae66-fa878be0ebb3"
        },
        "ExecuteTime": {
          "end_time": "2023-12-12T09:17:11.274689+00:00",
          "start_time": "2023-12-12T09:17:10.888288+00:00"
        },
        "datalink": {
          "ebce2d24-0b57-47f2-ad02-cbd719dfb1ae": {
            "applied_filters": [],
            "dataframe_info": {
              "default_index_used": true,
              "orig_num_cols": 7,
              "orig_num_rows": 5,
              "orig_size_bytes": 320,
              "truncated_num_cols": 7,
              "truncated_num_rows": 5,
              "truncated_size_bytes": 320,
              "truncated_string_columns": []
            },
            "display_id": "ebce2d24-0b57-47f2-ad02-cbd719dfb1ae",
            "dx_settings": {
              "ALLOW_NOTEABLE_ATTRS": true,
              "COLUMN_SAMPLING_METHOD": "outer",
              "DB_LOCATION": ":memory:",
              "DEV_MODE": false,
              "DISPLAY_MAX_COLUMNS": 100,
              "DISPLAY_MAX_ROWS": 50000,
              "DISPLAY_MODE": "simple",
              "ENABLE_ASSIGNMENT": true,
              "ENABLE_DATALINK": true,
              "FLATTEN_COLUMN_VALUES": true,
              "FLATTEN_INDEX_VALUES": false,
              "GENERATE_DEX_METADATA": false,
              "HTML_TABLE_SCHEMA": false,
              "LOG_LEVEL": 30,
              "MAX_RENDER_SIZE_BYTES": 104857600,
              "MAX_STRING_LENGTH": 250,
              "NUM_PAST_SAMPLES_TRACKED": 3,
              "RANDOM_STATE": 12648430,
              "RESET_INDEX_VALUES": false,
              "ROW_SAMPLING_METHOD": "random",
              "SAMPLING_FACTOR": 0.1,
              "SAMPLING_METHOD": "random",
              "STRINGIFY_COLUMN_VALUES": true,
              "STRINGIFY_INDEX_VALUES": false
            },
            "sample_history": [],
            "sampling_time": "2023-12-12T09:17:11.113978",
            "user_variable_name": null,
            "variable_name": "unk_dataframe_88272fa2dc8349128e8c13038142f64e"
          }
        }
      },
      "execution_count": null,
      "source": "df8[df8.bath>10]",
      "outputs": []
    },
    {
      "id": "83e08c9b-3785-41e5-847b-d6847f64044d",
      "cell_type": "markdown",
      "source": "### It is unusual to have 2 more bathrooms than number of bedrooms in a home",
      "metadata": {
        "noteable": {
          "cell_type": "markdown"
        }
      }
    },
    {
      "id": "1bb63460-3b3c-4abb-a3f6-a6e63a036795",
      "cell_type": "code",
      "metadata": {
        "noteable": {
          "cell_type": "python"
        }
      },
      "execution_count": null,
      "source": "df8[df8.bath>df8.bhk+2]",
      "outputs": []
    },
    {
      "id": "c3056f42-a8af-43cf-99b4-539f35c50d5b",
      "cell_type": "markdown",
      "source": "### Again the business manager has a conversation with you (i.e. a data scientist) that if you have 4 bedroom home and even if you have bathroom in all 4 rooms plus one guest bathroom, you will have total bath = total bed + 1 max. Anything above that is an outlier or a data error and can be removed",
      "metadata": {
        "noteable": {
          "cell_type": "markdown"
        }
      }
    },
    {
      "id": "2d6fecbf-5eac-441e-9d77-a9c876f1473b",
      "cell_type": "code",
      "metadata": {
        "noteable": {
          "cell_type": "python",
          "output_collection_id": "ad1558fd-ba40-4e69-9972-9a0475da4383"
        },
        "ExecuteTime": {
          "end_time": "2023-12-12T09:18:48.746977+00:00",
          "start_time": "2023-12-12T09:18:48.589080+00:00"
        }
      },
      "execution_count": null,
      "source": "df9 = df8[df8.bath<df8.bhk+2]\ndf9.shape",
      "outputs": []
    },
    {
      "id": "050150d8-cc63-45cf-908f-8fc83116ef39",
      "cell_type": "code",
      "metadata": {
        "noteable": {
          "cell_type": "python",
          "output_collection_id": "f9ade5e6-4998-476f-9bf6-2e4cb3177e43"
        },
        "ExecuteTime": {
          "end_time": "2023-12-12T09:19:05.412194+00:00",
          "start_time": "2023-12-12T09:19:04.962095+00:00"
        },
        "datalink": {
          "743d7dcd-22ed-4025-b614-adf4000e05b0": {
            "applied_filters": [],
            "dataframe_info": {
              "default_index_used": true,
              "orig_num_cols": 5,
              "orig_num_rows": 3,
              "orig_size_bytes": 144,
              "truncated_num_cols": 5,
              "truncated_num_rows": 3,
              "truncated_size_bytes": 144,
              "truncated_string_columns": []
            },
            "display_id": "743d7dcd-22ed-4025-b614-adf4000e05b0",
            "dx_settings": {
              "ALLOW_NOTEABLE_ATTRS": true,
              "COLUMN_SAMPLING_METHOD": "outer",
              "DB_LOCATION": ":memory:",
              "DEV_MODE": false,
              "DISPLAY_MAX_COLUMNS": 100,
              "DISPLAY_MAX_ROWS": 50000,
              "DISPLAY_MODE": "simple",
              "ENABLE_ASSIGNMENT": true,
              "ENABLE_DATALINK": true,
              "FLATTEN_COLUMN_VALUES": true,
              "FLATTEN_INDEX_VALUES": false,
              "GENERATE_DEX_METADATA": false,
              "HTML_TABLE_SCHEMA": false,
              "LOG_LEVEL": 30,
              "MAX_RENDER_SIZE_BYTES": 104857600,
              "MAX_STRING_LENGTH": 250,
              "NUM_PAST_SAMPLES_TRACKED": 3,
              "RANDOM_STATE": 12648430,
              "RESET_INDEX_VALUES": false,
              "ROW_SAMPLING_METHOD": "random",
              "SAMPLING_FACTOR": 0.1,
              "SAMPLING_METHOD": "random",
              "STRINGIFY_COLUMN_VALUES": true,
              "STRINGIFY_INDEX_VALUES": false
            },
            "sample_history": [],
            "sampling_time": "2023-12-12T09:19:05.251765",
            "user_variable_name": null,
            "variable_name": "unk_dataframe_4809c26058e34c77bda81ff699fbf849"
          }
        }
      },
      "execution_count": null,
      "source": "df10 = df9.drop(['size','price_per_sqft'],axis='columns')\ndf10.head(3)",
      "outputs": []
    },
    {
      "id": "d764eb51-6996-41cf-8f38-ba5b53bfffa1",
      "cell_type": "markdown",
      "source": "## Use One Hot Encoding For Location",
      "metadata": {
        "noteable": {
          "cell_type": "markdown"
        }
      }
    },
    {
      "id": "8b3bcc9d-2d92-475a-b608-5bb65dda7c5c",
      "cell_type": "code",
      "metadata": {
        "noteable": {
          "cell_type": "python",
          "output_collection_id": "e61213bf-5109-4163-b14d-ee79eec99961"
        },
        "ExecuteTime": {
          "end_time": "2023-12-12T09:20:19.129952+00:00",
          "start_time": "2023-12-12T09:20:17.909218+00:00"
        },
        "datalink": {
          "5e47ab7b-ce44-465f-828f-842151147e32": {
            "applied_filters": [],
            "dataframe_info": {
              "default_index_used": true,
              "orig_num_cols": 241,
              "orig_num_rows": 3,
              "orig_size_bytes": 747,
              "truncated_num_cols": 100,
              "truncated_num_rows": 3,
              "truncated_size_bytes": 324,
              "truncated_string_columns": []
            },
            "display_id": "5e47ab7b-ce44-465f-828f-842151147e32",
            "dx_settings": {
              "ALLOW_NOTEABLE_ATTRS": true,
              "COLUMN_SAMPLING_METHOD": "outer",
              "DB_LOCATION": ":memory:",
              "DEV_MODE": false,
              "DISPLAY_MAX_COLUMNS": 100,
              "DISPLAY_MAX_ROWS": 50000,
              "DISPLAY_MODE": "simple",
              "ENABLE_ASSIGNMENT": true,
              "ENABLE_DATALINK": true,
              "FLATTEN_COLUMN_VALUES": true,
              "FLATTEN_INDEX_VALUES": false,
              "GENERATE_DEX_METADATA": false,
              "HTML_TABLE_SCHEMA": false,
              "LOG_LEVEL": 30,
              "MAX_RENDER_SIZE_BYTES": 104857600,
              "MAX_STRING_LENGTH": 250,
              "NUM_PAST_SAMPLES_TRACKED": 3,
              "RANDOM_STATE": 12648430,
              "RESET_INDEX_VALUES": false,
              "ROW_SAMPLING_METHOD": "random",
              "SAMPLING_FACTOR": 0.1,
              "SAMPLING_METHOD": "random",
              "STRINGIFY_COLUMN_VALUES": true,
              "STRINGIFY_INDEX_VALUES": false
            },
            "sample_history": [],
            "sampling_time": "2023-12-12T09:19:29.616732",
            "user_variable_name": null,
            "variable_name": "unk_dataframe_0eb8f2efa305414da3ccecb660786cb8"
          },
          "a1ebe10c-756b-4340-9d79-9b7df0351ff0": {
            "applied_filters": [],
            "dataframe_info": {
              "default_index_used": true,
              "orig_num_cols": 241,
              "orig_num_rows": 5,
              "orig_size_bytes": 1245,
              "truncated_num_cols": 100,
              "truncated_num_rows": 5,
              "truncated_size_bytes": 540,
              "truncated_string_columns": []
            },
            "display_id": "a1ebe10c-756b-4340-9d79-9b7df0351ff0",
            "dx_settings": {
              "ALLOW_NOTEABLE_ATTRS": true,
              "COLUMN_SAMPLING_METHOD": "outer",
              "DB_LOCATION": ":memory:",
              "DEV_MODE": false,
              "DISPLAY_MAX_COLUMNS": 100,
              "DISPLAY_MAX_ROWS": 50000,
              "DISPLAY_MODE": "simple",
              "ENABLE_ASSIGNMENT": true,
              "ENABLE_DATALINK": true,
              "FLATTEN_COLUMN_VALUES": true,
              "FLATTEN_INDEX_VALUES": false,
              "GENERATE_DEX_METADATA": false,
              "HTML_TABLE_SCHEMA": false,
              "LOG_LEVEL": 30,
              "MAX_RENDER_SIZE_BYTES": 104857600,
              "MAX_STRING_LENGTH": 250,
              "NUM_PAST_SAMPLES_TRACKED": 3,
              "RANDOM_STATE": 12648430,
              "RESET_INDEX_VALUES": false,
              "ROW_SAMPLING_METHOD": "random",
              "SAMPLING_FACTOR": 0.1,
              "SAMPLING_METHOD": "random",
              "STRINGIFY_COLUMN_VALUES": true,
              "STRINGIFY_INDEX_VALUES": false
            },
            "sample_history": [],
            "sampling_time": "2023-12-12T09:20:18.946920",
            "user_variable_name": null,
            "variable_name": "unk_dataframe_dd52dc7d119e4ad1895841f7c5157eb3"
          }
        }
      },
      "execution_count": null,
      "source": "dummies = pd.get_dummies(df10.location)\ndummies.head()",
      "outputs": []
    },
    {
      "id": "eaad1ba0-a58d-4d48-9006-08c36c1a0387",
      "cell_type": "code",
      "metadata": {
        "jupyter": {
          "outputs_hidden": false,
          "source_hidden": false
        },
        "noteable": {
          "cell_type": "code",
          "output_collection_id": "683b49ef-c92e-4f10-bd91-3c16a45be02a"
        },
        "ExecuteTime": {
          "end_time": "2023-12-12T09:20:53.924962+00:00",
          "start_time": "2023-12-12T09:20:52.084307+00:00"
        },
        "datalink": {
          "60096959-2ecb-4f8b-bff9-9df8ab6a708e": {
            "applied_filters": [],
            "dataframe_info": {
              "default_index_used": true,
              "orig_num_cols": 245,
              "orig_num_rows": 5,
              "orig_size_bytes": 1440,
              "truncated_num_cols": 100,
              "truncated_num_rows": 5,
              "truncated_size_bytes": 715,
              "truncated_string_columns": []
            },
            "display_id": "60096959-2ecb-4f8b-bff9-9df8ab6a708e",
            "dx_settings": {
              "ALLOW_NOTEABLE_ATTRS": true,
              "COLUMN_SAMPLING_METHOD": "outer",
              "DB_LOCATION": ":memory:",
              "DEV_MODE": false,
              "DISPLAY_MAX_COLUMNS": 100,
              "DISPLAY_MAX_ROWS": 50000,
              "DISPLAY_MODE": "simple",
              "ENABLE_ASSIGNMENT": true,
              "ENABLE_DATALINK": true,
              "FLATTEN_COLUMN_VALUES": true,
              "FLATTEN_INDEX_VALUES": false,
              "GENERATE_DEX_METADATA": false,
              "HTML_TABLE_SCHEMA": false,
              "LOG_LEVEL": 30,
              "MAX_RENDER_SIZE_BYTES": 104857600,
              "MAX_STRING_LENGTH": 250,
              "NUM_PAST_SAMPLES_TRACKED": 3,
              "RANDOM_STATE": 12648430,
              "RESET_INDEX_VALUES": false,
              "ROW_SAMPLING_METHOD": "random",
              "SAMPLING_FACTOR": 0.1,
              "SAMPLING_METHOD": "random",
              "STRINGIFY_COLUMN_VALUES": true,
              "STRINGIFY_INDEX_VALUES": false
            },
            "sample_history": [],
            "sampling_time": "2023-12-12T09:20:53.735709",
            "user_variable_name": null,
            "variable_name": "unk_dataframe_21e20e8a737048c6a9e37134ce967b01"
          }
        }
      },
      "execution_count": null,
      "source": "df11 = pd.concat([df10, dummies.drop('other', axis='columns')], axis='columns')\ndf11.head()",
      "outputs": []
    },
    {
      "id": "559322a5-030e-4448-880e-e8cf7a4e5e3f",
      "cell_type": "code",
      "metadata": {
        "jupyter": {
          "outputs_hidden": false,
          "source_hidden": false
        },
        "noteable": {
          "cell_type": "code",
          "output_collection_id": "863be278-c1b1-4623-b347-9468569c159d"
        },
        "ExecuteTime": {
          "end_time": "2023-12-12T09:21:09.814405+00:00",
          "start_time": "2023-12-12T09:21:07.595383+00:00"
        },
        "datalink": {
          "5fdf88d5-476a-4d5a-9ce5-44dab70d9bda": {
            "applied_filters": [],
            "dataframe_info": {
              "default_index_used": true,
              "orig_num_cols": 244,
              "orig_num_rows": 2,
              "orig_size_bytes": 560,
              "truncated_num_cols": 100,
              "truncated_num_rows": 2,
              "truncated_size_bytes": 272,
              "truncated_string_columns": []
            },
            "display_id": "5fdf88d5-476a-4d5a-9ce5-44dab70d9bda",
            "dx_settings": {
              "ALLOW_NOTEABLE_ATTRS": true,
              "COLUMN_SAMPLING_METHOD": "outer",
              "DB_LOCATION": ":memory:",
              "DEV_MODE": false,
              "DISPLAY_MAX_COLUMNS": 100,
              "DISPLAY_MAX_ROWS": 50000,
              "DISPLAY_MODE": "simple",
              "ENABLE_ASSIGNMENT": true,
              "ENABLE_DATALINK": true,
              "FLATTEN_COLUMN_VALUES": true,
              "FLATTEN_INDEX_VALUES": false,
              "GENERATE_DEX_METADATA": false,
              "HTML_TABLE_SCHEMA": false,
              "LOG_LEVEL": 30,
              "MAX_RENDER_SIZE_BYTES": 104857600,
              "MAX_STRING_LENGTH": 250,
              "NUM_PAST_SAMPLES_TRACKED": 3,
              "RANDOM_STATE": 12648430,
              "RESET_INDEX_VALUES": false,
              "ROW_SAMPLING_METHOD": "random",
              "SAMPLING_FACTOR": 0.1,
              "SAMPLING_METHOD": "random",
              "STRINGIFY_COLUMN_VALUES": true,
              "STRINGIFY_INDEX_VALUES": false
            },
            "sample_history": [],
            "sampling_time": "2023-12-12T09:21:09.624304",
            "user_variable_name": null,
            "variable_name": "unk_dataframe_15dfe4ac52434aafbea192a6ba94ef04"
          }
        }
      },
      "execution_count": null,
      "source": "df12 = df11.drop('location',axis='columns')\ndf12.head(2)",
      "outputs": []
    },
    {
      "id": "823aef7c-c0b9-4d5f-adba-1cf33a67420b",
      "cell_type": "markdown",
      "source": "## Building a Model",
      "metadata": {
        "noteable": {
          "cell_type": "markdown"
        }
      }
    },
    {
      "id": "17397840-1c3a-4fbf-ac7b-28a147925283",
      "cell_type": "code",
      "metadata": {
        "noteable": {
          "cell_type": "python",
          "output_collection_id": "039b83ef-203c-48b6-8194-1da8357202c5"
        },
        "ExecuteTime": {
          "end_time": "2023-12-12T09:21:56.008150+00:00",
          "start_time": "2023-12-12T09:21:55.851167+00:00"
        }
      },
      "execution_count": null,
      "source": "df12.shape",
      "outputs": []
    },
    {
      "id": "bc5c9c7d-1f59-4c57-9de1-c55baff52cc1",
      "cell_type": "code",
      "metadata": {
        "jupyter": {
          "outputs_hidden": false,
          "source_hidden": false
        },
        "noteable": {
          "cell_type": "code",
          "output_collection_id": "376c7a62-ba74-4859-8f6c-ed74f5af3f71"
        },
        "ExecuteTime": {
          "end_time": "2023-12-12T09:22:06.731928+00:00",
          "start_time": "2023-12-12T09:22:03.966218+00:00"
        },
        "datalink": {
          "5835e377-bdb3-48b8-a4dc-7eea208ac187": {
            "applied_filters": [],
            "dataframe_info": {
              "default_index_used": true,
              "orig_num_cols": 243,
              "orig_num_rows": 3,
              "orig_size_bytes": 816,
              "truncated_num_cols": 100,
              "truncated_num_rows": 3,
              "truncated_size_bytes": 387,
              "truncated_string_columns": []
            },
            "display_id": "5835e377-bdb3-48b8-a4dc-7eea208ac187",
            "dx_settings": {
              "ALLOW_NOTEABLE_ATTRS": true,
              "COLUMN_SAMPLING_METHOD": "outer",
              "DB_LOCATION": ":memory:",
              "DEV_MODE": false,
              "DISPLAY_MAX_COLUMNS": 100,
              "DISPLAY_MAX_ROWS": 50000,
              "DISPLAY_MODE": "simple",
              "ENABLE_ASSIGNMENT": true,
              "ENABLE_DATALINK": true,
              "FLATTEN_COLUMN_VALUES": true,
              "FLATTEN_INDEX_VALUES": false,
              "GENERATE_DEX_METADATA": false,
              "HTML_TABLE_SCHEMA": false,
              "LOG_LEVEL": 30,
              "MAX_RENDER_SIZE_BYTES": 104857600,
              "MAX_STRING_LENGTH": 250,
              "NUM_PAST_SAMPLES_TRACKED": 3,
              "RANDOM_STATE": 12648430,
              "RESET_INDEX_VALUES": false,
              "ROW_SAMPLING_METHOD": "random",
              "SAMPLING_FACTOR": 0.1,
              "SAMPLING_METHOD": "random",
              "STRINGIFY_COLUMN_VALUES": true,
              "STRINGIFY_INDEX_VALUES": false
            },
            "sample_history": [],
            "sampling_time": "2023-12-12T09:22:06.542640",
            "user_variable_name": null,
            "variable_name": "unk_dataframe_1dc7155bf0d740458d8da5b427e08775"
          }
        }
      },
      "execution_count": null,
      "source": "X = df12.drop(['price'],axis='columns')\nX.head(3)",
      "outputs": []
    },
    {
      "id": "f0234b4e-d064-4f9c-8e0e-607596ac18ed",
      "cell_type": "code",
      "metadata": {
        "jupyter": {
          "outputs_hidden": false,
          "source_hidden": false
        },
        "noteable": {
          "cell_type": "code",
          "output_collection_id": "14a9729e-5287-4794-9429-b9a127f6f536"
        },
        "ExecuteTime": {
          "end_time": "2023-12-12T09:22:17.753540+00:00",
          "start_time": "2023-12-12T09:22:15.418580+00:00"
        },
        "datalink": {
          "7998ba1c-ec01-4b30-8139-1193643f4826": {
            "applied_filters": [],
            "dataframe_info": {
              "default_index_used": true,
              "orig_num_cols": 1,
              "orig_num_rows": 3,
              "orig_size_bytes": 48,
              "truncated_num_cols": 1,
              "truncated_num_rows": 3,
              "truncated_size_bytes": 48,
              "truncated_string_columns": []
            },
            "display_id": "7998ba1c-ec01-4b30-8139-1193643f4826",
            "dx_settings": {
              "ALLOW_NOTEABLE_ATTRS": true,
              "COLUMN_SAMPLING_METHOD": "outer",
              "DB_LOCATION": ":memory:",
              "DEV_MODE": false,
              "DISPLAY_MAX_COLUMNS": 100,
              "DISPLAY_MAX_ROWS": 50000,
              "DISPLAY_MODE": "simple",
              "ENABLE_ASSIGNMENT": true,
              "ENABLE_DATALINK": true,
              "FLATTEN_COLUMN_VALUES": true,
              "FLATTEN_INDEX_VALUES": false,
              "GENERATE_DEX_METADATA": false,
              "HTML_TABLE_SCHEMA": false,
              "LOG_LEVEL": 30,
              "MAX_RENDER_SIZE_BYTES": 104857600,
              "MAX_STRING_LENGTH": 250,
              "NUM_PAST_SAMPLES_TRACKED": 3,
              "RANDOM_STATE": 12648430,
              "RESET_INDEX_VALUES": false,
              "ROW_SAMPLING_METHOD": "random",
              "SAMPLING_FACTOR": 0.1,
              "SAMPLING_METHOD": "random",
              "STRINGIFY_COLUMN_VALUES": true,
              "STRINGIFY_INDEX_VALUES": false
            },
            "sample_history": [],
            "sampling_time": "2023-12-12T09:22:17.594710",
            "user_variable_name": null,
            "variable_name": "unk_dataframe_e43045861ca64e1cb0cb08e4e6abf781"
          }
        }
      },
      "execution_count": null,
      "source": "y = df12.price\ny.head(3)",
      "outputs": []
    },
    {
      "id": "40d70392-264d-4366-893f-e69ca14c9fc4",
      "cell_type": "code",
      "metadata": {
        "jupyter": {
          "outputs_hidden": false,
          "source_hidden": false
        },
        "noteable": {
          "cell_type": "code",
          "output_collection_id": "d27c675a-d74b-4ebd-923f-676c8b07890c"
        },
        "ExecuteTime": {
          "end_time": "2023-12-12T09:22:35.988296+00:00",
          "start_time": "2023-12-12T09:22:35.219830+00:00"
        }
      },
      "execution_count": null,
      "source": "from sklearn.model_selection import train_test_split\nX_train, X_test, y_train, y_test = train_test_split(X,y,test_size=0.2,random_state=10)",
      "outputs": []
    },
    {
      "id": "887c3e1d-5c74-4102-8594-f3547d152f84",
      "cell_type": "code",
      "metadata": {
        "jupyter": {
          "outputs_hidden": false,
          "source_hidden": false
        },
        "noteable": {
          "cell_type": "code",
          "output_collection_id": "4ebd1334-acec-4b6b-85f4-f8e9b92274c6"
        },
        "ExecuteTime": {
          "end_time": "2023-12-12T09:23:20.769411+00:00",
          "start_time": "2023-12-12T09:22:44.953584+00:00"
        }
      },
      "execution_count": null,
      "source": "from sklearn.linear_model import LinearRegression\nlr_clf = LinearRegression()\nlr_clf.fit(X_train,y_train)\nlr_clf.score(X_test,y_test)",
      "outputs": []
    },
    {
      "id": "29e87b2d-0c3d-4392-8bd5-cae7b3a42720",
      "cell_type": "markdown",
      "source": "## Use K Fold cross validation to measure accuracy of our LinearRegression model",
      "metadata": {
        "noteable": {
          "cell_type": "markdown"
        }
      }
    },
    {
      "id": "f6fed4c1-20bf-42b6-9443-bdd7e61f82a2",
      "cell_type": "code",
      "metadata": {
        "noteable": {
          "cell_type": "python",
          "output_collection_id": "3d4e4a5d-c70e-45cc-a7f2-a5c36e808807"
        },
        "ExecuteTime": {
          "end_time": "2023-12-12T09:26:20.867225+00:00",
          "start_time": "2023-12-12T09:23:27.368683+00:00"
        }
      },
      "execution_count": null,
      "source": "from sklearn.model_selection import ShuffleSplit\nfrom sklearn.model_selection import cross_val_score\n\ncv = ShuffleSplit(n_splits=5, test_size=0.2, random_state=0)\n\ncross_val_score(LinearRegression(), X, y, cv=cv)",
      "outputs": []
    },
    {
      "id": "e75afbd2-93b8-4e5a-8b32-e3893dbf13a6",
      "cell_type": "markdown",
      "source": "### We can see that in 5 iterations we get a score above 80% all the time. This is pretty good but we want to test few other algorithms for regression to see if we can get even better score. We will use GridSearchCV for this purpose",
      "metadata": {
        "noteable": {
          "cell_type": "markdown"
        }
      }
    },
    {
      "id": "bdf9effe-f0d5-4703-a104-942941ed5359",
      "cell_type": "markdown",
      "source": "## Find best model using GridSearchCV",
      "metadata": {
        "noteable": {
          "cell_type": "markdown"
        }
      }
    },
    {
      "id": "32ee096a-f6b1-41d7-ab6b-ec26dc6f1108",
      "cell_type": "code",
      "metadata": {
        "noteable": {
          "cell_type": "python",
          "output_collection_id": "a821c095-eda7-4dcb-ae39-8652bf6880b1"
        },
        "ExecuteTime": {
          "end_time": "2023-12-12T09:32:30.499209+00:00",
          "start_time": "2023-12-12T09:32:14.827987+00:00"
        },
        "datalink": {
          "810b4f13-fcd6-44b3-96f3-7c0831d6d38c": {
            "applied_filters": [],
            "dataframe_info": {
              "default_index_used": true,
              "orig_num_cols": 3,
              "orig_num_rows": 2,
              "orig_size_bytes": 64,
              "truncated_num_cols": 3,
              "truncated_num_rows": 2,
              "truncated_size_bytes": 64,
              "truncated_string_columns": []
            },
            "display_id": "810b4f13-fcd6-44b3-96f3-7c0831d6d38c",
            "dx_settings": {
              "ALLOW_NOTEABLE_ATTRS": true,
              "COLUMN_SAMPLING_METHOD": "outer",
              "DB_LOCATION": ":memory:",
              "DEV_MODE": false,
              "DISPLAY_MAX_COLUMNS": 100,
              "DISPLAY_MAX_ROWS": 50000,
              "DISPLAY_MODE": "simple",
              "ENABLE_ASSIGNMENT": true,
              "ENABLE_DATALINK": true,
              "FLATTEN_COLUMN_VALUES": true,
              "FLATTEN_INDEX_VALUES": false,
              "GENERATE_DEX_METADATA": false,
              "HTML_TABLE_SCHEMA": false,
              "LOG_LEVEL": 30,
              "MAX_RENDER_SIZE_BYTES": 104857600,
              "MAX_STRING_LENGTH": 250,
              "NUM_PAST_SAMPLES_TRACKED": 3,
              "RANDOM_STATE": 12648430,
              "RESET_INDEX_VALUES": false,
              "ROW_SAMPLING_METHOD": "random",
              "SAMPLING_FACTOR": 0.1,
              "SAMPLING_METHOD": "random",
              "STRINGIFY_COLUMN_VALUES": true,
              "STRINGIFY_INDEX_VALUES": false
            },
            "sample_history": [],
            "sampling_time": "2023-12-12T09:32:30.339191",
            "user_variable_name": null,
            "variable_name": "unk_dataframe_2b6d33b248e5440b862e8b6ba2980366"
          }
        }
      },
      "execution_count": null,
      "source": "from sklearn.model_selection import GridSearchCV\nfrom sklearn.linear_model import Lasso\nfrom sklearn.tree import DecisionTreeRegressor\n\ndef find_best_model_using_gridsearchcv(X,y):\n    algos = {\n#         'linear_regression' : {\n#             'model': LinearRegression(),\n#             'params': {\n#                 'normalize': [True, False]\n#             }\n#         },\n        'lasso': {\n            'model': Lasso(),\n            'params': {\n                'alpha': [1,2],\n                'selection': ['random', 'cyclic']\n            }\n        },\n        'decision_tree': {\n            'model': DecisionTreeRegressor(),\n            'params': {\n                'criterion' : ['mse','friedman_mse'],\n                'splitter': ['best','random']\n            }\n        }\n    }\n    scores = []\n    cv = ShuffleSplit(n_splits=5, test_size=0.2, random_state=0)\n    for algo_name, config in algos.items():\n        gs =  GridSearchCV(config['model'], config['params'], cv=cv, return_train_score=False)\n        gs.fit(X,y)\n        scores.append({\n            'model': algo_name,\n            'best_score': gs.best_score_,\n            'best_params': gs.best_params_\n        })\n\n    return pd.DataFrame(scores,columns=['model','best_score','best_params'])\n\nfind_best_model_using_gridsearchcv(X,y)",
      "outputs": []
    },
    {
      "id": "e44ca4d4-c6a8-4de8-9c2d-269f8099014f",
      "cell_type": "markdown",
      "source": "### Based on above results we can say that LinearRegression gives the best score. Hence we will use that.",
      "metadata": {
        "noteable": {
          "cell_type": "markdown"
        }
      }
    },
    {
      "id": "5dc20784-4d45-41c7-8d53-e025296c3cf0",
      "cell_type": "markdown",
      "source": "## Test the model for few properties",
      "metadata": {
        "noteable": {
          "cell_type": "markdown"
        }
      }
    },
    {
      "id": "cdfe5710-b8dc-49b0-9af3-9c6678883f5c",
      "cell_type": "code",
      "metadata": {
        "noteable": {
          "cell_type": "python",
          "output_collection_id": "d7ce9d2f-e5bd-44b0-85a8-027a27543d7d"
        },
        "ExecuteTime": {
          "end_time": "2023-12-12T09:28:51.283107+00:00",
          "start_time": "2023-12-12T09:28:51.126252+00:00"
        }
      },
      "execution_count": null,
      "source": "def predict_price(location,sqft,bath,bhk):    \n    loc_index = np.where(X.columns==location)[0][0]\n\n    x = np.zeros(len(X.columns))\n    x[0] = sqft\n    x[1] = bath\n    x[2] = bhk\n    if loc_index >= 0:\n        x[loc_index] = 1\n\n    return lr_clf.predict([x])[0]",
      "outputs": []
    },
    {
      "id": "63d6ec23-0adc-4909-9571-de54127a605e",
      "cell_type": "code",
      "metadata": {
        "jupyter": {
          "outputs_hidden": false,
          "source_hidden": false
        },
        "noteable": {
          "cell_type": "code",
          "output_collection_id": "3b615d03-f85d-44f2-9036-6f12e868980a"
        },
        "ExecuteTime": {
          "end_time": "2023-12-12T09:28:55.792719+00:00",
          "start_time": "2023-12-12T09:28:55.635488+00:00"
        }
      },
      "execution_count": null,
      "source": "predict_price('1st Phase JP Nagar',1000, 2, 2)",
      "outputs": []
    },
    {
      "id": "af54eb26-1bc1-4bcc-974e-18a6956dc05d",
      "cell_type": "code",
      "metadata": {
        "jupyter": {
          "outputs_hidden": false,
          "source_hidden": false
        },
        "noteable": {
          "cell_type": "code",
          "output_collection_id": "a3f755ee-23ca-4178-abeb-b1ae6cd600cc"
        },
        "ExecuteTime": {
          "end_time": "2023-12-12T09:29:03.896421+00:00",
          "start_time": "2023-12-12T09:29:03.738528+00:00"
        }
      },
      "execution_count": null,
      "source": "predict_price('1st Phase JP Nagar',1000, 3, 3)",
      "outputs": []
    },
    {
      "id": "c1179c93-d057-408e-9f38-5abdb5d951f2",
      "cell_type": "code",
      "metadata": {
        "jupyter": {
          "outputs_hidden": false,
          "source_hidden": false
        },
        "noteable": {
          "cell_type": "code",
          "output_collection_id": "e5f5a8f2-c793-4941-9373-df47978d1648"
        },
        "ExecuteTime": {
          "end_time": "2023-12-12T09:29:10.316592+00:00",
          "start_time": "2023-12-12T09:29:10.159822+00:00"
        }
      },
      "execution_count": null,
      "source": "predict_price('Indira Nagar',1000, 3, 3)",
      "outputs": []
    },
    {
      "id": "9cbdd1e6-6b31-422a-9f13-2c972f0abf92",
      "cell_type": "markdown",
      "source": "## Export the tested model to a pickle file",
      "metadata": {
        "noteable": {
          "cell_type": "markdown"
        }
      }
    },
    {
      "id": "cc785986-6b7b-4e50-aea3-d3ab5fc7472e",
      "cell_type": "code",
      "metadata": {
        "noteable": {
          "cell_type": "python",
          "output_collection_id": "933fd85a-39eb-4a8b-8d01-e828f9227557"
        },
        "ExecuteTime": {
          "end_time": "2023-12-12T09:29:36.144341+00:00",
          "start_time": "2023-12-12T09:29:35.987847+00:00"
        }
      },
      "execution_count": null,
      "source": "import pickle\nwith open('banglore_home_prices_model.pickle','wb') as f:\n    pickle.dump(lr_clf,f) # Linear Regression Model",
      "outputs": []
    },
    {
      "id": "753a9ba3-9df8-45b4-902e-685e49d5b018",
      "cell_type": "markdown",
      "source": "### Export location and column information to a file that will be useful later on in our prediction application",
      "metadata": {
        "noteable": {
          "cell_type": "markdown"
        }
      }
    },
    {
      "id": "2fe99303-e28c-47ce-bd6d-edc2bd70c137",
      "cell_type": "code",
      "metadata": {
        "noteable": {
          "cell_type": "python",
          "output_collection_id": "119e7c5b-434d-4ddd-a673-d6b55b303b88"
        },
        "ExecuteTime": {
          "end_time": "2023-12-12T09:31:30.574359+00:00",
          "start_time": "2023-12-12T09:31:30.418455+00:00"
        }
      },
      "execution_count": null,
      "source": "import json\ncolumns = {\n    'data_columns' : [col.lower() for col in X.columns]\n}\nwith open(\"columns.json\",\"w\") as f:\n    f.write(json.dumps(columns))",
      "outputs": []
    }
  ]
}